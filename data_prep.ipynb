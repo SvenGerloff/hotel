{
 "cells": [
  {
   "cell_type": "markdown",
   "id": "c415ec8e0fbecf39",
   "metadata": {
    "collapsed": false
   },
   "source": [
    "# Imports "
   ]
  },
  {
   "cell_type": "code",
   "execution_count": 1,
   "id": "647c8689cc319d21",
   "metadata": {
    "collapsed": false,
    "ExecuteTime": {
     "end_time": "2024-06-11T16:11:59.529859Z",
     "start_time": "2024-06-11T16:11:58.845361Z"
    }
   },
   "outputs": [],
   "source": [
    "import pandas as pd\n",
    "from nltk.corpus import stopwords\n",
    "from nltk.tokenize import word_tokenize\n",
    "import nltk\n",
    "import re"
   ]
  },
  {
   "cell_type": "markdown",
   "id": "d4ac9bdbcf93737d",
   "metadata": {
    "collapsed": false
   },
   "source": [
    "# Initialise stop words "
   ]
  },
  {
   "cell_type": "code",
   "execution_count": 2,
   "id": "3de1afa61265956d",
   "metadata": {
    "collapsed": false,
    "ExecuteTime": {
     "end_time": "2024-06-11T16:11:59.682950Z",
     "start_time": "2024-06-11T16:11:59.532269Z"
    }
   },
   "outputs": [
    {
     "name": "stderr",
     "output_type": "stream",
     "text": [
      "[nltk_data] Downloading package stopwords to\n",
      "[nltk_data]     /Users/svengerloff/nltk_data...\n",
      "[nltk_data]   Package stopwords is already up-to-date!\n",
      "[nltk_data] Downloading package punkt to\n",
      "[nltk_data]     /Users/svengerloff/nltk_data...\n",
      "[nltk_data]   Package punkt is already up-to-date!\n"
     ]
    },
    {
     "data": {
      "text/plain": "True"
     },
     "execution_count": 2,
     "metadata": {},
     "output_type": "execute_result"
    }
   ],
   "source": [
    "nltk.download('stopwords')\n",
    "nltk.download('punkt')"
   ]
  },
  {
   "cell_type": "markdown",
   "id": "f9369b7da3f92ff0",
   "metadata": {
    "collapsed": false
   },
   "source": [
    "# Load data \n",
    "Data source: https://www.kaggle.com/datasets/jiashenliu/515k-hotel-reviews-data-in-europe [05.06.2024]\n",
    "Delete rows with missing lat and lng\n",
    "Select hotel from Vienna only "
   ]
  },
  {
   "cell_type": "code",
   "execution_count": 3,
   "id": "4cfa2b4191438109",
   "metadata": {
    "collapsed": false,
    "ExecuteTime": {
     "end_time": "2024-06-11T16:12:03.453660Z",
     "start_time": "2024-06-11T16:11:59.683854Z"
    }
   },
   "outputs": [],
   "source": [
    "df = pd.read_csv('./data/hotels.csv')\n",
    "df = df.dropna(subset=['lat', 'lng'])\n",
    "df = df[df['Hotel_Address'].str.contains('Vienna', case=False, na=False)]"
   ]
  },
  {
   "cell_type": "markdown",
   "id": "cf4b85223f848165",
   "metadata": {
    "collapsed": false
   },
   "source": [
    "# Define functions for data preparation"
   ]
  },
  {
   "cell_type": "code",
   "execution_count": 4,
   "id": "a67e8a6e0bdd64e6",
   "metadata": {
    "collapsed": false,
    "ExecuteTime": {
     "end_time": "2024-06-11T16:12:03.460910Z",
     "start_time": "2024-06-11T16:12:03.455578Z"
    }
   },
   "outputs": [],
   "source": [
    "stop_words_english = set(stopwords.words('english'))\n",
    "custom_stopwords = {'negative', 'positive', 'good', 'everything', 'hotel'}\n",
    "stop_words_english.update(custom_stopwords)\n",
    "stop_words_german = set(stopwords.words('german'))"
   ]
  },
  {
   "cell_type": "code",
   "execution_count": 5,
   "id": "94e94510efdad86",
   "metadata": {
    "collapsed": false,
    "ExecuteTime": {
     "end_time": "2024-06-11T16:12:03.497163Z",
     "start_time": "2024-06-11T16:12:03.462544Z"
    }
   },
   "outputs": [],
   "source": [
    "# Get postal code \n",
    "def extract_postal_code(address):\n",
    "    match = re.search(r'\\b\\d{4}\\b', address)\n",
    "    return match.group(0) if match else None"
   ]
  },
  {
   "cell_type": "code",
   "execution_count": 6,
   "id": "63f62f0aede8acf9",
   "metadata": {
    "collapsed": false,
    "ExecuteTime": {
     "end_time": "2024-06-11T16:12:03.501828Z",
     "start_time": "2024-06-11T16:12:03.498217Z"
    }
   },
   "outputs": [],
   "source": [
    "# Transform postal code to district number\n",
    "def postal_code_to_district(postal_code):\n",
    "    if postal_code is not None:\n",
    "        return int(postal_code[1:3])\n",
    "    return None"
   ]
  },
  {
   "cell_type": "code",
   "execution_count": 7,
   "id": "373ac9dc2b18f51",
   "metadata": {
    "collapsed": false,
    "ExecuteTime": {
     "end_time": "2024-06-11T16:12:03.508978Z",
     "start_time": "2024-06-11T16:12:03.504025Z"
    }
   },
   "outputs": [],
   "source": [
    "# Use tokenizer and remove stopwords\n",
    "def remove_stopwords(text):\n",
    "    word_tokens = word_tokenize(text)\n",
    "    word_tokens = [word.lower() for word in word_tokens]\n",
    "    filtered_text = [word for word in word_tokens if word not in stop_words_english and word not in stop_words_german]\n",
    "    return ' '.join(filtered_text)"
   ]
  },
  {
   "cell_type": "markdown",
   "id": "6ceef92431557b19",
   "metadata": {
    "collapsed": false
   },
   "source": [
    "# Apply methods of data preparation "
   ]
  },
  {
   "cell_type": "code",
   "execution_count": 8,
   "id": "ccc9c3bd8a99d5c4",
   "metadata": {
    "collapsed": false,
    "ExecuteTime": {
     "end_time": "2024-06-11T16:12:03.599281Z",
     "start_time": "2024-06-11T16:12:03.511680Z"
    }
   },
   "outputs": [],
   "source": [
    "df['Bezirk'] = df['Hotel_Address'].apply(extract_postal_code)\n",
    "df['District'] = df['Bezirk'].apply(postal_code_to_district)"
   ]
  },
  {
   "cell_type": "code",
   "execution_count": 9,
   "id": "f293352fd8139ddf",
   "metadata": {
    "collapsed": false,
    "ExecuteTime": {
     "end_time": "2024-06-11T16:12:03.631974Z",
     "start_time": "2024-06-11T16:12:03.600436Z"
    }
   },
   "outputs": [],
   "source": [
    "grouped_df = df.groupby('Hotel_Name').agg({\n",
    "    'lat': 'first',\n",
    "    'lng': 'first',\n",
    "    'Average_Score': 'mean',\n",
    "    'Total_Number_of_Reviews': 'max',\n",
    "    'Positive_Review': ' '.join, \n",
    "    'Negative_Review': ' '.join,\n",
    "    'District': 'first'\n",
    "}).reset_index()"
   ]
  },
  {
   "cell_type": "code",
   "execution_count": 10,
   "id": "97575b6942d30689",
   "metadata": {
    "collapsed": false,
    "ExecuteTime": {
     "end_time": "2024-06-11T16:12:07.173361Z",
     "start_time": "2024-06-11T16:12:03.636469Z"
    }
   },
   "outputs": [],
   "source": [
    "grouped_df['Positive_Review_prepared'] = grouped_df['Positive_Review'].apply(remove_stopwords)\n",
    "grouped_df['Negative_Review_prepared'] = grouped_df['Negative_Review'].apply(remove_stopwords)"
   ]
  },
  {
   "cell_type": "code",
   "execution_count": 11,
   "id": "f37866006f95235",
   "metadata": {
    "collapsed": false,
    "ExecuteTime": {
     "end_time": "2024-06-11T16:12:07.179257Z",
     "start_time": "2024-06-11T16:12:07.174570Z"
    }
   },
   "outputs": [],
   "source": [
    "grouped_df.drop(columns=['Positive_Review', 'Negative_Review'], inplace=True)\n",
    "grouped_df.rename(columns={'Positive_Review_prepared': 'Positive_Review', 'Negative_Review_prepared': 'Negative_Review'}, inplace=True)"
   ]
  },
  {
   "cell_type": "code",
   "execution_count": 12,
   "id": "7cee8a71ff8fd7a3",
   "metadata": {
    "collapsed": false,
    "ExecuteTime": {
     "end_time": "2024-06-11T16:12:07.193873Z",
     "start_time": "2024-06-11T16:12:07.181270Z"
    }
   },
   "outputs": [
    {
     "data": {
      "text/plain": "                           Hotel_Name        lat        lng  Average_Score  \\\n0  25hours Hotel beim MuseumsQuartier  48.206474  16.354630            8.8   \n1       ARCOTEL Kaiserwasser Superior  48.231915  16.417026            8.6   \n2                   ARCOTEL Wimberger  48.200600  16.338633            8.2   \n3                 AZIMUT Hotel Vienna  48.183479  16.376276            8.2   \n4                 Alma Boutique Hotel  48.211249  16.377652            8.7   \n\n   Total_Number_of_Reviews  District  \\\n0                     4324         7   \n1                     1257        22   \n2                     1886         7   \n3                     1060        10   \n4                      730         1   \n\n                                     Positive_Review  \\\n0  cool vintage style middle museum quarter metro...   \n1  great location vic meetings amazing value mone...   \n2  close public transportation gentleman front de...   \n3  comfortable room clean quiet friendly polite s...   \n4  could check couple hours earlier exhausting fl...   \n\n                                     Negative_Review  \n0  breakfast included buffet really expensive bre...  \n1  booked suites room double room asked connected...  \n2  stuff canteen prepared tourist crowd clean fre...  \n3  excellent definitely security stayed one night...  \n4  bread croissants old coffee mediocre breakfast...  ",
      "text/html": "<div>\n<style scoped>\n    .dataframe tbody tr th:only-of-type {\n        vertical-align: middle;\n    }\n\n    .dataframe tbody tr th {\n        vertical-align: top;\n    }\n\n    .dataframe thead th {\n        text-align: right;\n    }\n</style>\n<table border=\"1\" class=\"dataframe\">\n  <thead>\n    <tr style=\"text-align: right;\">\n      <th></th>\n      <th>Hotel_Name</th>\n      <th>lat</th>\n      <th>lng</th>\n      <th>Average_Score</th>\n      <th>Total_Number_of_Reviews</th>\n      <th>District</th>\n      <th>Positive_Review</th>\n      <th>Negative_Review</th>\n    </tr>\n  </thead>\n  <tbody>\n    <tr>\n      <th>0</th>\n      <td>25hours Hotel beim MuseumsQuartier</td>\n      <td>48.206474</td>\n      <td>16.354630</td>\n      <td>8.8</td>\n      <td>4324</td>\n      <td>7</td>\n      <td>cool vintage style middle museum quarter metro...</td>\n      <td>breakfast included buffet really expensive bre...</td>\n    </tr>\n    <tr>\n      <th>1</th>\n      <td>ARCOTEL Kaiserwasser Superior</td>\n      <td>48.231915</td>\n      <td>16.417026</td>\n      <td>8.6</td>\n      <td>1257</td>\n      <td>22</td>\n      <td>great location vic meetings amazing value mone...</td>\n      <td>booked suites room double room asked connected...</td>\n    </tr>\n    <tr>\n      <th>2</th>\n      <td>ARCOTEL Wimberger</td>\n      <td>48.200600</td>\n      <td>16.338633</td>\n      <td>8.2</td>\n      <td>1886</td>\n      <td>7</td>\n      <td>close public transportation gentleman front de...</td>\n      <td>stuff canteen prepared tourist crowd clean fre...</td>\n    </tr>\n    <tr>\n      <th>3</th>\n      <td>AZIMUT Hotel Vienna</td>\n      <td>48.183479</td>\n      <td>16.376276</td>\n      <td>8.2</td>\n      <td>1060</td>\n      <td>10</td>\n      <td>comfortable room clean quiet friendly polite s...</td>\n      <td>excellent definitely security stayed one night...</td>\n    </tr>\n    <tr>\n      <th>4</th>\n      <td>Alma Boutique Hotel</td>\n      <td>48.211249</td>\n      <td>16.377652</td>\n      <td>8.7</td>\n      <td>730</td>\n      <td>1</td>\n      <td>could check couple hours earlier exhausting fl...</td>\n      <td>bread croissants old coffee mediocre breakfast...</td>\n    </tr>\n  </tbody>\n</table>\n</div>"
     },
     "execution_count": 12,
     "metadata": {},
     "output_type": "execute_result"
    }
   ],
   "source": [
    "grouped_df.head(5)"
   ]
  },
  {
   "cell_type": "markdown",
   "id": "b95fce3166421770",
   "metadata": {
    "collapsed": false
   },
   "source": [
    "# Save data"
   ]
  },
  {
   "cell_type": "code",
   "execution_count": 13,
   "id": "ec86d87c4ff21442",
   "metadata": {
    "collapsed": false,
    "ExecuteTime": {
     "end_time": "2024-06-11T16:12:07.317213Z",
     "start_time": "2024-06-11T16:12:07.194736Z"
    }
   },
   "outputs": [],
   "source": [
    "grouped_df.to_csv('./data/data_prepared.csv', index=False)"
   ]
  }
 ],
 "metadata": {
  "kernelspec": {
   "display_name": "Python 3",
   "language": "python",
   "name": "python3"
  },
  "language_info": {
   "codemirror_mode": {
    "name": "ipython",
    "version": 3
   },
   "file_extension": ".py",
   "mimetype": "text/x-python",
   "name": "python",
   "nbconvert_exporter": "python",
   "pygments_lexer": "ipython3",
   "version": "3.11.0"
  }
 },
 "nbformat": 4,
 "nbformat_minor": 5
}
